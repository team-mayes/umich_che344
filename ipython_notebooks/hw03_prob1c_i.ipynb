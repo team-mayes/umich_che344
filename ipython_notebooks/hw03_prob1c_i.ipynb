{
 "cells": [
  {
   "cell_type": "markdown",
   "metadata": {},
   "source": [
    "Example of how to solve a single non-linear equation, from HW3, problem 1, first part of part c\n",
    "\n",
    "Start, I imported some libraries I'll need later. Then, I made a function with the equation(s) to solve. Here, there is just one equation. The return could be an array of equations. The first argument (here, x_out) *must* be the variable we want to determine (the dependent variable). Here, it is a scalar. If we have a system of equations, it would be an array."
   ]
  },
  {
   "cell_type": "code",
   "execution_count": 1,
   "metadata": {
    "collapsed": true
   },
   "outputs": [],
   "source": [
    "import numpy as np\n",
    "from scipy.optimize import fsolve\n",
    "\n",
    "def pfr_design_eq(x_out, x_in, vol, nuo, k):\n",
    "    \"\"\"\n",
    "    PFR design eq for HW3 problem 1, set up for f(Xi) = 0 for fsolve function\n",
    "    :param x_in: initial conversion (unitless)\n",
    "    :param x_out: final conversion (unitless)\n",
    "    :param vol: PFR volume in L\n",
    "    :param nuo: volumetric flow in L/min\n",
    "    :param k: rate coefficient in 1/min\n",
    "    :return: function residual (want close to zero)\n",
    "    \"\"\"\n",
    "    return vol - nuo / k * (4.0 * np.log(1 / (1 - x_out)) - 3.0 * x_out - 4.0 * np.log(1 / (1 - x_in)) + 3.0 * x_in)"
   ]
  },
  {
   "cell_type": "markdown",
   "metadata": {},
   "source": [
    "Let's also define a function to determine k at a new temperature"
   ]
  },
  {
   "cell_type": "code",
   "execution_count": 2,
   "metadata": {
    "collapsed": true
   },
   "outputs": [],
   "source": [
    "def k_at_new_temp(k_ref, e_a, r_gas, t_ref, t_new):\n",
    "    \"\"\"\n",
    "    convert using \"alternate\" form of Arrhenius eq\n",
    "    :param k_ref: reference rate coefficient at temp t_ref\n",
    "    :param e_a: activation energy with units consistent with given r_gas\n",
    "    :param r_gas: universal gas constant in units consistent with e_a and temps\n",
    "    :param t_ref: reference temp in K\n",
    "    :param t_new: new temp in K\n",
    "    :return: k at the \"new' temperature, t_ref, in the same units as the given k_ref\n",
    "    \"\"\"\n",
    "    return k_ref * np.exp((-e_a/r_gas)*(1/t_new - 1/t_ref))"
   ]
  },
  {
   "cell_type": "markdown",
   "metadata": {},
   "source": [
    "And one to convert temperatures, as well as to determine k at a new temp from k at an old temp"
   ]
  },
  {
   "cell_type": "code",
   "execution_count": 3,
   "metadata": {
    "collapsed": true
   },
   "outputs": [],
   "source": [
    "def temp_c_to_k(temp_in_C):\n",
    "    \"\"\"\n",
    "    simple conversion\n",
    "    :param temp_in_C:\n",
    "    :return: temp in K\n",
    "    \"\"\"\n",
    "    return temp_in_C + 273.15\n",
    "\n",
    "def k_at_new_temp(k_ref, e_a, r_gas, t_ref, t_new):\n",
    "    \"\"\"\n",
    "    convert using \"alternate\" form of Arrhenius eq\n",
    "    :param k_ref: reference rate coefficient at temp t_ref\n",
    "    :param e_a: activation energy with units consistent with given r_gas\n",
    "    :param r_gas: universal gas constant in units consistent with e_a and temps\n",
    "    :param t_ref: reference temp in K\n",
    "    :param t_new: new temp in K\n",
    "    :return: k at the \"new' temperature, t_ref, in the same units as the given k_ref\n",
    "    \"\"\"\n",
    "    return k_ref * np.exp((-e_a/r_gas)*(1/t_new - 1/t_ref))\n"
   ]
  },
  {
   "cell_type": "markdown",
   "metadata": {},
   "source": [
    "Now, let's define some constants and our given data, and then call the solver."
   ]
  },
  {
   "cell_type": "code",
   "execution_count": 4,
   "metadata": {},
   "outputs": [
    {
     "name": "stdout",
     "output_type": "stream",
     "text": [
      "PFR outlet conversion: 0.75\n"
     ]
    }
   ],
   "source": [
    "R_J = 8.314472  # universal gas constant in J / K mol\n",
    "R_ATM = 0.082057338  # universal gas constant in atm-L / mol-K\n",
    " \n",
    "t_ref = temp_c_to_k(150)  # reference temp, converting Celsius to K\n",
    "temp = temp_c_to_k(227)  # temp for problem in K\n",
    "e_a = 85.0  # in kJ/mol\n",
    "k_ref = 5e-3  # min^-1, at 150 C\n",
    "k_new = k_at_new_temp(k_ref, e_a, R_J / 1000.0, t_ref, temp)\n",
    "nuo = 2.5 / 10 * R_ATM * temp  # volumetric flow in L/min\n",
    "volume_pfr_b = 323.93 # L\n",
    "\n",
    "x_in = 0.0\n",
    "x_out_guess = 0.5\n",
    "new_pfr_x_out = fsolve(pfr_design_eq, 0.75, args=(x_in, volume_pfr_b / 2.0, nuo, k_new))[0]\n",
    "print(\"PFR outlet conversion: {:.2f}\".format(new_pfr_x_out))\n"
   ]
  },
  {
   "cell_type": "code",
   "execution_count": null,
   "metadata": {
    "collapsed": true
   },
   "outputs": [],
   "source": []
  }
 ],
 "metadata": {
  "kernelspec": {
   "display_name": "Python 3",
   "language": "python",
   "name": "python3"
  },
  "language_info": {
   "codemirror_mode": {
    "name": "ipython",
    "version": 3
   },
   "file_extension": ".py",
   "mimetype": "text/x-python",
   "name": "python",
   "nbconvert_exporter": "python",
   "pygments_lexer": "ipython3",
   "version": "3.6.1"
  }
 },
 "nbformat": 4,
 "nbformat_minor": 2
}
